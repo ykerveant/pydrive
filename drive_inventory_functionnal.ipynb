{
  "nbformat": 4,
  "nbformat_minor": 0,
  "metadata": {
    "colab": {
      "name": "drive_inventory_functionnal.ipynb",
      "provenance": [],
      "collapsed_sections": [],
      "toc_visible": true
    },
    "kernelspec": {
      "name": "python3",
      "display_name": "Python 3"
    }
  },
  "cells": [
    {
      "cell_type": "code",
      "metadata": {
        "id": "P-zxPvpRaJyJ"
      },
      "source": [
        "from pydrive.auth import GoogleAuth\r\n",
        "from pydrive.drive import GoogleDrive\r\n",
        "from google.colab import auth\r\n",
        "from oauth2client.client import GoogleCredentials\r\n",
        "import pickle\r\n",
        "\r\n",
        "\r\n",
        "# doc : https://colab.research.google.com/notebooks/io.ipynb#scrollTo=1w7lrGcW08Ds\r\n",
        "\r\n",
        "# query ref : https://developers.google.com/drive/api/v3/reference/query-ref\r\n",
        "# search terms : https://developers.google.com/drive/api/v3/ref-search-terms\r\n",
        "# mime types : https://developers.google.com/drive/api/v3/mime-types\r\n",
        "\r\n",
        "# files ref : https://developers.google.com/drive/api/v3/reference/files\r\n"
      ],
      "execution_count": 1,
      "outputs": []
    },
    {
      "cell_type": "code",
      "metadata": {
        "id": "klM1F7NCaRuE"
      },
      "source": [
        "auth.authenticate_user()\r\n",
        "gauth = GoogleAuth()\r\n",
        "gauth.credentials = GoogleCredentials.get_application_default()\r\n",
        "drive = GoogleDrive(gauth)"
      ],
      "execution_count": 2,
      "outputs": []
    },
    {
      "cell_type": "code",
      "metadata": {
        "colab": {
          "base_uri": "https://localhost:8080/"
        },
        "id": "NzFRSnaO0eJU",
        "outputId": "db5c1671-0fcb-453d-b3be-cd37657840b5"
      },
      "source": [
        "def get_folder_size(folder_name):\r\n",
        "\r\n",
        "  # return id with id or title\r\n",
        "  def get_id(**kwargs): # title or id + value\r\n",
        "    for arg, value in kwargs.items():\r\n",
        "      if arg == 'id':\r\n",
        "        id = value\r\n",
        "      elif arg == 'title':\r\n",
        "        folder = drive.ListFile({\"q\": f\"mimeType='application/vnd.google-apps.folder' and title = '{value}' and trashed=false\"}).GetList()\r\n",
        "        id = folder[0]['id']\r\n",
        "    return id\r\n",
        "\r\n",
        "  # mains vars\r\n",
        "  id = get_id(title=folder_name)\r\n",
        "  total_items = 0\r\n",
        "  total_size = 0\r\n",
        "\r\n",
        "  # folder iteration function\r\n",
        "  def iterate_over_folder(folder_id):\r\n",
        "    folder = drive.ListFile({'q': f\"'{folder_id}' in parents and trashed=false\"}).GetList()\r\n",
        "    for item in folder:\r\n",
        "      #\r\n",
        "      if item['mimeType'] != 'application/vnd.google-apps.folder':\r\n",
        "        nonlocal total_size, total_items # --> referring to the main vars\r\n",
        "        total_size += int(item['fileSize'])\r\n",
        "        total_items += 1\r\n",
        "      else:\r\n",
        "        iterate_over_folder(item['id']) # --> RECURSION !! :D\r\n",
        "\r\n",
        "  # root request\r\n",
        "  base = drive.ListFile({'q': f\"'{id}' in parents and trashed=false\"}).GetList()\r\n",
        "\r\n",
        "  for item in base:\r\n",
        "    if item['mimeType'] != 'application/vnd.google-apps.folder':\r\n",
        "      total_size += int(item['fileSize'])\r\n",
        "      total_items += 1\r\n",
        "    elif item['mimeType'] == 'application/vnd.google-apps.folder':\r\n",
        "      iterate_over_folder(item['id'])\r\n",
        "\r\n",
        "  # formating\r\n",
        "  if total_size > 1000000000:\r\n",
        "    total_size = f\"{round(total_size/1000000000, 2)} Gb\"\r\n",
        "  else:\r\n",
        "    total_size = f\"{round(total_size/1000000, 2)} Mb\"\r\n",
        "\r\n",
        "  total_items = f\"{total_items} items\"\r\n",
        "\r\n",
        "  return total_size, total_items\r\n",
        "\r\n",
        "# checker la différence entre filesize et quotaBytesUsed\r\n",
        "# 2005 : taille 311mb en filesize, 1.26Gb en quotaBytesUsed\r\n",
        "# révision ?\r\n",
        "\r\n",
        "print(get_folder_size('2005'))"
      ],
      "execution_count": 10,
      "outputs": [
        {
          "output_type": "stream",
          "text": [
            "('326.33 Mb', '411 items')\n"
          ],
          "name": "stdout"
        }
      ]
    },
    {
      "cell_type": "markdown",
      "metadata": {
        "id": "WzMYR0sEDlnB"
      },
      "source": [
        ""
      ]
    }
  ]
}