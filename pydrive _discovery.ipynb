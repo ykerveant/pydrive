{
  "nbformat": 4,
  "nbformat_minor": 0,
  "metadata": {
    "colab": {
      "name": "pydrive inventory",
      "provenance": []
    },
    "kernelspec": {
      "name": "python3",
      "display_name": "Python 3"
    }
  },
  "cells": [
    {
      "cell_type": "code",
      "metadata": {
        "id": "78rsUZS6zF_Z"
      },
      "source": [
        "from pydrive.auth import GoogleAuth\r\n",
        "from pydrive.drive import GoogleDrive\r\n",
        "from google.colab import auth\r\n",
        "from oauth2client.client import GoogleCredentials\r\n",
        "\r\n",
        "\r\n",
        "# doc : https://colab.research.google.com/notebooks/io.ipynb#scrollTo=1w7lrGcW08Ds\r\n",
        "\r\n",
        "# query ref : https://developers.google.com/drive/api/v3/reference/query-ref\r\n",
        "# search terms : https://developers.google.com/drive/api/v3/ref-search-terms\r\n",
        "# mime types : https://developers.google.com/drive/api/v3/mime-types\r\n",
        "\r\n",
        "# files ref : https://developers.google.com/drive/api/v3/reference/files\r\n"
      ],
      "execution_count": 12,
      "outputs": []
    },
    {
      "cell_type": "code",
      "metadata": {
        "id": "JHMVyLSJ3Ctz"
      },
      "source": [
        "auth.authenticate_user()\r\n",
        "gauth = GoogleAuth()\r\n",
        "gauth.credentials = GoogleCredentials.get_application_default()\r\n",
        "drive = GoogleDrive(gauth)"
      ],
      "execution_count": 13,
      "outputs": []
    },
    {
      "cell_type": "code",
      "metadata": {
        "colab": {
          "base_uri": "https://localhost:8080/"
        },
        "id": "AaajZGto3F-a",
        "outputId": "49fe9245-3f2a-4bd5-a8b1-3b89b610f549"
      },
      "source": [
        "# get all elements in the root folder\r\n",
        "\r\n",
        "file_list = drive.ListFile({'q': \"'root' in parents and trashed=false\"}).GetList()\r\n",
        "for key, value in file_list[0].items():\r\n",
        "  print(f\"key : {key} --- value : {value}\")"
      ],
      "execution_count": 57,
      "outputs": [
        {
          "output_type": "stream",
          "text": [
            "key : kind --- value : drive#file\n",
            "key : id --- value : 1dEPrOwxMg0p3-BS89glTlA3v4CFXnRhF\n",
            "key : etag --- value : \"MTYwOTIxMDI2MDA1MA\"\n",
            "key : selfLink --- value : https://www.googleapis.com/drive/v2/files/1dEPrOwxMg0p3-BS89glTlA3v4CFXnRhF\n",
            "key : alternateLink --- value : https://drive.google.com/drive/folders/1dEPrOwxMg0p3-BS89glTlA3v4CFXnRhF\n",
            "key : embedLink --- value : https://drive.google.com/embeddedfolderview?id=1dEPrOwxMg0p3-BS89glTlA3v4CFXnRhF\n",
            "key : iconLink --- value : https://drive-thirdparty.googleusercontent.com/16/type/application/vnd.google-apps.folder\n",
            "key : title --- value : yanntestfolder\n",
            "key : mimeType --- value : application/vnd.google-apps.folder\n",
            "key : labels --- value : {'starred': False, 'hidden': False, 'trashed': False, 'restricted': False, 'viewed': True}\n",
            "key : copyRequiresWriterPermission --- value : False\n",
            "key : createdDate --- value : 2020-12-29T02:51:00.050Z\n",
            "key : modifiedDate --- value : 2020-12-29T02:51:00.050Z\n",
            "key : modifiedByMeDate --- value : 2020-12-29T02:51:00.050Z\n",
            "key : lastViewedByMeDate --- value : 2020-12-29T02:51:04.302Z\n",
            "key : markedViewedByMeDate --- value : 1970-01-01T00:00:00.000Z\n",
            "key : version --- value : 2\n",
            "key : parents --- value : [{'kind': 'drive#parentReference', 'id': '0APdgAVlhi3v4Uk9PVA', 'selfLink': 'https://www.googleapis.com/drive/v2/files/1dEPrOwxMg0p3-BS89glTlA3v4CFXnRhF/parents/0APdgAVlhi3v4Uk9PVA', 'parentLink': 'https://www.googleapis.com/drive/v2/files/0APdgAVlhi3v4Uk9PVA', 'isRoot': True}]\n",
            "key : userPermission --- value : {'kind': 'drive#permission', 'etag': '\"wRs2d-1Fe6L-eUwlZ5tIWY1lFTo\"', 'id': 'me', 'selfLink': 'https://www.googleapis.com/drive/v2/files/1dEPrOwxMg0p3-BS89glTlA3v4CFXnRhF/permissions/me', 'role': 'owner', 'type': 'user'}\n",
            "key : quotaBytesUsed --- value : 0\n",
            "key : ownerNames --- value : ['yann Kerveant']\n",
            "key : owners --- value : [{'kind': 'drive#user', 'displayName': 'yann Kerveant', 'picture': {'url': 'https://lh3.googleusercontent.com/a-/AOh14GhXEfP5xhMaOKA_tW_TO_pnKnJYQ_jHM8bi7qVZEg=s64'}, 'isAuthenticatedUser': True, 'permissionId': '04575701285001944768', 'emailAddress': 'yannkerveant@gmail.com'}]\n",
            "key : lastModifyingUserName --- value : yann Kerveant\n",
            "key : lastModifyingUser --- value : {'kind': 'drive#user', 'displayName': 'yann Kerveant', 'picture': {'url': 'https://lh3.googleusercontent.com/a-/AOh14GhXEfP5xhMaOKA_tW_TO_pnKnJYQ_jHM8bi7qVZEg=s64'}, 'isAuthenticatedUser': True, 'permissionId': '04575701285001944768', 'emailAddress': 'yannkerveant@gmail.com'}\n",
            "key : capabilities --- value : {'canCopy': False, 'canEdit': True}\n",
            "key : editable --- value : True\n",
            "key : copyable --- value : False\n",
            "key : writersCanShare --- value : True\n",
            "key : shared --- value : False\n",
            "key : explicitlyTrashed --- value : False\n",
            "key : appDataContents --- value : False\n",
            "key : spaces --- value : ['drive']\n"
          ],
          "name": "stdout"
        }
      ]
    },
    {
      "cell_type": "code",
      "metadata": {
        "colab": {
          "base_uri": "https://localhost:8080/"
        },
        "id": "HVMdj2hE4V69",
        "outputId": "9df0be0a-abfc-41f7-f388-8fdb76502a6e"
      },
      "source": [
        "list_of_folders = drive.ListFile({\"q\": \"mimeType='application/vnd.google-apps.folder' and trashed=false\"}).GetList()\r\n",
        "for folder in list_of_folders:\r\n",
        "    print(f\"folder : {folder['title']}, id: {folder['id']}\")\r\n",
        "    break\r\n",
        "\r\n",
        "# --> folder : bol_photos_part1, id: 1y-f_cJXWF7utnM_CJ_i9GnuST66-Z7M6\r\n",
        "# file doc https://developers.google.com/drive/api/v3/reference/files"
      ],
      "execution_count": 35,
      "outputs": [
        {
          "output_type": "stream",
          "text": [
            "folder : yanntestfolder, id: 1dEPrOwxMg0p3-BS89glTlA3v4CFXnRhF\n"
          ],
          "name": "stdout"
        }
      ]
    },
    {
      "cell_type": "code",
      "metadata": {
        "colab": {
          "base_uri": "https://localhost:8080/"
        },
        "id": "fdAZ0RBkiPxT",
        "outputId": "66e41efd-1f5f-4cce-dfb5-8183324f35aa"
      },
      "source": [
        "# --> looks for all files in the folder -- works\r\n",
        "files_in_folder = drive.ListFile({'q': \"'1y-f_cJXWF7utnM_CJ_i9GnuST66-Z7M6' in parents and trashed=false\"}).GetList()\r\n",
        "total_size = 0\r\n",
        "for file in files_in_folder:\r\n",
        "  total_size += int(file['fileSize'])\r\n",
        "\r\n",
        "print(f\"taille du fichier : {round(total_size/1000000000, 2)}Gb\")\r\n"
      ],
      "execution_count": 56,
      "outputs": [
        {
          "output_type": "stream",
          "text": [
            "taille du fichier : 7.57Gb\n"
          ],
          "name": "stdout"
        }
      ]
    }
  ]
}
